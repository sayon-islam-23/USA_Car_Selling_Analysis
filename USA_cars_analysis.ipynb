{
 "cells": [
  {
   "cell_type": "code",
   "execution_count": 1,
   "id": "90a560ee",
   "metadata": {},
   "outputs": [],
   "source": [
    "import pandas as pd"
   ]
  },
  {
   "cell_type": "code",
   "execution_count": 2,
   "id": "56c2a0f7",
   "metadata": {},
   "outputs": [],
   "source": [
    "df = pd.read_csv(\"USA_cars_datasets.csv\")"
   ]
  },
  {
   "cell_type": "code",
   "execution_count": 3,
   "id": "4783c40e",
   "metadata": {},
   "outputs": [
    {
     "data": {
      "text/html": [
       "<div>\n",
       "<style scoped>\n",
       "    .dataframe tbody tr th:only-of-type {\n",
       "        vertical-align: middle;\n",
       "    }\n",
       "\n",
       "    .dataframe tbody tr th {\n",
       "        vertical-align: top;\n",
       "    }\n",
       "\n",
       "    .dataframe thead th {\n",
       "        text-align: right;\n",
       "    }\n",
       "</style>\n",
       "<table border=\"1\" class=\"dataframe\">\n",
       "  <thead>\n",
       "    <tr style=\"text-align: right;\">\n",
       "      <th></th>\n",
       "      <th>Unnamed: 0</th>\n",
       "      <th>price</th>\n",
       "      <th>brand</th>\n",
       "      <th>model</th>\n",
       "      <th>year</th>\n",
       "      <th>title_status</th>\n",
       "      <th>mileage</th>\n",
       "      <th>color</th>\n",
       "      <th>vin</th>\n",
       "      <th>lot</th>\n",
       "      <th>state</th>\n",
       "      <th>country</th>\n",
       "      <th>condition</th>\n",
       "    </tr>\n",
       "  </thead>\n",
       "  <tbody>\n",
       "    <tr>\n",
       "      <th>0</th>\n",
       "      <td>0</td>\n",
       "      <td>6300</td>\n",
       "      <td>toyota</td>\n",
       "      <td>cruiser</td>\n",
       "      <td>2008</td>\n",
       "      <td>clean vehicle</td>\n",
       "      <td>274117.0</td>\n",
       "      <td>black</td>\n",
       "      <td>jtezu11f88k007763</td>\n",
       "      <td>159348797</td>\n",
       "      <td>new jersey</td>\n",
       "      <td>usa</td>\n",
       "      <td>10 days left</td>\n",
       "    </tr>\n",
       "    <tr>\n",
       "      <th>1</th>\n",
       "      <td>1</td>\n",
       "      <td>2899</td>\n",
       "      <td>ford</td>\n",
       "      <td>se</td>\n",
       "      <td>2011</td>\n",
       "      <td>clean vehicle</td>\n",
       "      <td>190552.0</td>\n",
       "      <td>silver</td>\n",
       "      <td>2fmdk3gc4bbb02217</td>\n",
       "      <td>166951262</td>\n",
       "      <td>tennessee</td>\n",
       "      <td>usa</td>\n",
       "      <td>6 days left</td>\n",
       "    </tr>\n",
       "    <tr>\n",
       "      <th>2</th>\n",
       "      <td>2</td>\n",
       "      <td>5350</td>\n",
       "      <td>dodge</td>\n",
       "      <td>mpv</td>\n",
       "      <td>2018</td>\n",
       "      <td>clean vehicle</td>\n",
       "      <td>39590.0</td>\n",
       "      <td>silver</td>\n",
       "      <td>3c4pdcgg5jt346413</td>\n",
       "      <td>167655728</td>\n",
       "      <td>georgia</td>\n",
       "      <td>usa</td>\n",
       "      <td>2 days left</td>\n",
       "    </tr>\n",
       "    <tr>\n",
       "      <th>3</th>\n",
       "      <td>3</td>\n",
       "      <td>25000</td>\n",
       "      <td>ford</td>\n",
       "      <td>door</td>\n",
       "      <td>2014</td>\n",
       "      <td>clean vehicle</td>\n",
       "      <td>64146.0</td>\n",
       "      <td>blue</td>\n",
       "      <td>1ftfw1et4efc23745</td>\n",
       "      <td>167753855</td>\n",
       "      <td>virginia</td>\n",
       "      <td>usa</td>\n",
       "      <td>22 hours left</td>\n",
       "    </tr>\n",
       "    <tr>\n",
       "      <th>4</th>\n",
       "      <td>4</td>\n",
       "      <td>27700</td>\n",
       "      <td>chevrolet</td>\n",
       "      <td>1500</td>\n",
       "      <td>2018</td>\n",
       "      <td>clean vehicle</td>\n",
       "      <td>6654.0</td>\n",
       "      <td>red</td>\n",
       "      <td>3gcpcrec2jg473991</td>\n",
       "      <td>167763266</td>\n",
       "      <td>florida</td>\n",
       "      <td>usa</td>\n",
       "      <td>22 hours left</td>\n",
       "    </tr>\n",
       "    <tr>\n",
       "      <th>...</th>\n",
       "      <td>...</td>\n",
       "      <td>...</td>\n",
       "      <td>...</td>\n",
       "      <td>...</td>\n",
       "      <td>...</td>\n",
       "      <td>...</td>\n",
       "      <td>...</td>\n",
       "      <td>...</td>\n",
       "      <td>...</td>\n",
       "      <td>...</td>\n",
       "      <td>...</td>\n",
       "      <td>...</td>\n",
       "      <td>...</td>\n",
       "    </tr>\n",
       "    <tr>\n",
       "      <th>2494</th>\n",
       "      <td>2494</td>\n",
       "      <td>7800</td>\n",
       "      <td>nissan</td>\n",
       "      <td>versa</td>\n",
       "      <td>2019</td>\n",
       "      <td>clean vehicle</td>\n",
       "      <td>23609.0</td>\n",
       "      <td>red</td>\n",
       "      <td>3n1cn7ap9kl880319</td>\n",
       "      <td>167722715</td>\n",
       "      <td>california</td>\n",
       "      <td>usa</td>\n",
       "      <td>1 days left</td>\n",
       "    </tr>\n",
       "    <tr>\n",
       "      <th>2495</th>\n",
       "      <td>2495</td>\n",
       "      <td>9200</td>\n",
       "      <td>nissan</td>\n",
       "      <td>versa</td>\n",
       "      <td>2018</td>\n",
       "      <td>clean vehicle</td>\n",
       "      <td>34553.0</td>\n",
       "      <td>silver</td>\n",
       "      <td>3n1cn7ap5jl884088</td>\n",
       "      <td>167762225</td>\n",
       "      <td>florida</td>\n",
       "      <td>usa</td>\n",
       "      <td>21 hours left</td>\n",
       "    </tr>\n",
       "    <tr>\n",
       "      <th>2496</th>\n",
       "      <td>2496</td>\n",
       "      <td>9200</td>\n",
       "      <td>nissan</td>\n",
       "      <td>versa</td>\n",
       "      <td>2018</td>\n",
       "      <td>clean vehicle</td>\n",
       "      <td>31594.0</td>\n",
       "      <td>silver</td>\n",
       "      <td>3n1cn7ap9jl884191</td>\n",
       "      <td>167762226</td>\n",
       "      <td>florida</td>\n",
       "      <td>usa</td>\n",
       "      <td>21 hours left</td>\n",
       "    </tr>\n",
       "    <tr>\n",
       "      <th>2497</th>\n",
       "      <td>2497</td>\n",
       "      <td>9200</td>\n",
       "      <td>nissan</td>\n",
       "      <td>versa</td>\n",
       "      <td>2018</td>\n",
       "      <td>clean vehicle</td>\n",
       "      <td>32557.0</td>\n",
       "      <td>black</td>\n",
       "      <td>3n1cn7ap3jl883263</td>\n",
       "      <td>167762227</td>\n",
       "      <td>florida</td>\n",
       "      <td>usa</td>\n",
       "      <td>2 days left</td>\n",
       "    </tr>\n",
       "    <tr>\n",
       "      <th>2498</th>\n",
       "      <td>2498</td>\n",
       "      <td>9200</td>\n",
       "      <td>nissan</td>\n",
       "      <td>versa</td>\n",
       "      <td>2018</td>\n",
       "      <td>clean vehicle</td>\n",
       "      <td>31371.0</td>\n",
       "      <td>silver</td>\n",
       "      <td>3n1cn7ap4jl884311</td>\n",
       "      <td>167762228</td>\n",
       "      <td>florida</td>\n",
       "      <td>usa</td>\n",
       "      <td>21 hours left</td>\n",
       "    </tr>\n",
       "  </tbody>\n",
       "</table>\n",
       "<p>2499 rows × 13 columns</p>\n",
       "</div>"
      ],
      "text/plain": [
       "      Unnamed: 0  price      brand    model  year   title_status   mileage  \\\n",
       "0              0   6300     toyota  cruiser  2008  clean vehicle  274117.0   \n",
       "1              1   2899       ford       se  2011  clean vehicle  190552.0   \n",
       "2              2   5350      dodge      mpv  2018  clean vehicle   39590.0   \n",
       "3              3  25000       ford     door  2014  clean vehicle   64146.0   \n",
       "4              4  27700  chevrolet     1500  2018  clean vehicle    6654.0   \n",
       "...          ...    ...        ...      ...   ...            ...       ...   \n",
       "2494        2494   7800     nissan    versa  2019  clean vehicle   23609.0   \n",
       "2495        2495   9200     nissan    versa  2018  clean vehicle   34553.0   \n",
       "2496        2496   9200     nissan    versa  2018  clean vehicle   31594.0   \n",
       "2497        2497   9200     nissan    versa  2018  clean vehicle   32557.0   \n",
       "2498        2498   9200     nissan    versa  2018  clean vehicle   31371.0   \n",
       "\n",
       "       color                  vin        lot       state country  \\\n",
       "0      black    jtezu11f88k007763  159348797  new jersey     usa   \n",
       "1     silver    2fmdk3gc4bbb02217  166951262   tennessee     usa   \n",
       "2     silver    3c4pdcgg5jt346413  167655728     georgia     usa   \n",
       "3       blue    1ftfw1et4efc23745  167753855    virginia     usa   \n",
       "4        red    3gcpcrec2jg473991  167763266     florida     usa   \n",
       "...      ...                  ...        ...         ...     ...   \n",
       "2494     red    3n1cn7ap9kl880319  167722715  california     usa   \n",
       "2495  silver    3n1cn7ap5jl884088  167762225     florida     usa   \n",
       "2496  silver    3n1cn7ap9jl884191  167762226     florida     usa   \n",
       "2497   black    3n1cn7ap3jl883263  167762227     florida     usa   \n",
       "2498  silver    3n1cn7ap4jl884311  167762228     florida     usa   \n",
       "\n",
       "          condition  \n",
       "0      10 days left  \n",
       "1       6 days left  \n",
       "2       2 days left  \n",
       "3     22 hours left  \n",
       "4     22 hours left  \n",
       "...             ...  \n",
       "2494    1 days left  \n",
       "2495  21 hours left  \n",
       "2496  21 hours left  \n",
       "2497    2 days left  \n",
       "2498  21 hours left  \n",
       "\n",
       "[2499 rows x 13 columns]"
      ]
     },
     "execution_count": 3,
     "metadata": {},
     "output_type": "execute_result"
    }
   ],
   "source": [
    "df"
   ]
  },
  {
   "cell_type": "code",
   "execution_count": 4,
   "id": "fd9d0616",
   "metadata": {},
   "outputs": [
    {
     "data": {
      "text/plain": [
       "pandas.core.frame.DataFrame"
      ]
     },
     "execution_count": 4,
     "metadata": {},
     "output_type": "execute_result"
    }
   ],
   "source": [
    "type(df)"
   ]
  },
  {
   "cell_type": "code",
   "execution_count": 5,
   "id": "109db7b4",
   "metadata": {},
   "outputs": [
    {
     "data": {
      "text/html": [
       "<div>\n",
       "<style scoped>\n",
       "    .dataframe tbody tr th:only-of-type {\n",
       "        vertical-align: middle;\n",
       "    }\n",
       "\n",
       "    .dataframe tbody tr th {\n",
       "        vertical-align: top;\n",
       "    }\n",
       "\n",
       "    .dataframe thead th {\n",
       "        text-align: right;\n",
       "    }\n",
       "</style>\n",
       "<table border=\"1\" class=\"dataframe\">\n",
       "  <thead>\n",
       "    <tr style=\"text-align: right;\">\n",
       "      <th></th>\n",
       "      <th>Unnamed: 0</th>\n",
       "      <th>price</th>\n",
       "      <th>brand</th>\n",
       "      <th>model</th>\n",
       "      <th>year</th>\n",
       "      <th>title_status</th>\n",
       "      <th>mileage</th>\n",
       "      <th>color</th>\n",
       "      <th>vin</th>\n",
       "      <th>lot</th>\n",
       "      <th>state</th>\n",
       "      <th>country</th>\n",
       "      <th>condition</th>\n",
       "    </tr>\n",
       "  </thead>\n",
       "  <tbody>\n",
       "    <tr>\n",
       "      <th>0</th>\n",
       "      <td>0</td>\n",
       "      <td>6300</td>\n",
       "      <td>toyota</td>\n",
       "      <td>cruiser</td>\n",
       "      <td>2008</td>\n",
       "      <td>clean vehicle</td>\n",
       "      <td>274117.0</td>\n",
       "      <td>black</td>\n",
       "      <td>jtezu11f88k007763</td>\n",
       "      <td>159348797</td>\n",
       "      <td>new jersey</td>\n",
       "      <td>usa</td>\n",
       "      <td>10 days left</td>\n",
       "    </tr>\n",
       "    <tr>\n",
       "      <th>1</th>\n",
       "      <td>1</td>\n",
       "      <td>2899</td>\n",
       "      <td>ford</td>\n",
       "      <td>se</td>\n",
       "      <td>2011</td>\n",
       "      <td>clean vehicle</td>\n",
       "      <td>190552.0</td>\n",
       "      <td>silver</td>\n",
       "      <td>2fmdk3gc4bbb02217</td>\n",
       "      <td>166951262</td>\n",
       "      <td>tennessee</td>\n",
       "      <td>usa</td>\n",
       "      <td>6 days left</td>\n",
       "    </tr>\n",
       "    <tr>\n",
       "      <th>2</th>\n",
       "      <td>2</td>\n",
       "      <td>5350</td>\n",
       "      <td>dodge</td>\n",
       "      <td>mpv</td>\n",
       "      <td>2018</td>\n",
       "      <td>clean vehicle</td>\n",
       "      <td>39590.0</td>\n",
       "      <td>silver</td>\n",
       "      <td>3c4pdcgg5jt346413</td>\n",
       "      <td>167655728</td>\n",
       "      <td>georgia</td>\n",
       "      <td>usa</td>\n",
       "      <td>2 days left</td>\n",
       "    </tr>\n",
       "    <tr>\n",
       "      <th>3</th>\n",
       "      <td>3</td>\n",
       "      <td>25000</td>\n",
       "      <td>ford</td>\n",
       "      <td>door</td>\n",
       "      <td>2014</td>\n",
       "      <td>clean vehicle</td>\n",
       "      <td>64146.0</td>\n",
       "      <td>blue</td>\n",
       "      <td>1ftfw1et4efc23745</td>\n",
       "      <td>167753855</td>\n",
       "      <td>virginia</td>\n",
       "      <td>usa</td>\n",
       "      <td>22 hours left</td>\n",
       "    </tr>\n",
       "    <tr>\n",
       "      <th>4</th>\n",
       "      <td>4</td>\n",
       "      <td>27700</td>\n",
       "      <td>chevrolet</td>\n",
       "      <td>1500</td>\n",
       "      <td>2018</td>\n",
       "      <td>clean vehicle</td>\n",
       "      <td>6654.0</td>\n",
       "      <td>red</td>\n",
       "      <td>3gcpcrec2jg473991</td>\n",
       "      <td>167763266</td>\n",
       "      <td>florida</td>\n",
       "      <td>usa</td>\n",
       "      <td>22 hours left</td>\n",
       "    </tr>\n",
       "  </tbody>\n",
       "</table>\n",
       "</div>"
      ],
      "text/plain": [
       "   Unnamed: 0  price      brand    model  year   title_status   mileage  \\\n",
       "0           0   6300     toyota  cruiser  2008  clean vehicle  274117.0   \n",
       "1           1   2899       ford       se  2011  clean vehicle  190552.0   \n",
       "2           2   5350      dodge      mpv  2018  clean vehicle   39590.0   \n",
       "3           3  25000       ford     door  2014  clean vehicle   64146.0   \n",
       "4           4  27700  chevrolet     1500  2018  clean vehicle    6654.0   \n",
       "\n",
       "    color                  vin        lot       state country      condition  \n",
       "0   black    jtezu11f88k007763  159348797  new jersey     usa   10 days left  \n",
       "1  silver    2fmdk3gc4bbb02217  166951262   tennessee     usa    6 days left  \n",
       "2  silver    3c4pdcgg5jt346413  167655728     georgia     usa    2 days left  \n",
       "3    blue    1ftfw1et4efc23745  167753855    virginia     usa  22 hours left  \n",
       "4     red    3gcpcrec2jg473991  167763266     florida     usa  22 hours left  "
      ]
     },
     "execution_count": 5,
     "metadata": {},
     "output_type": "execute_result"
    }
   ],
   "source": [
    "df.head()"
   ]
  },
  {
   "cell_type": "code",
   "execution_count": 6,
   "id": "c8903141",
   "metadata": {},
   "outputs": [
    {
     "data": {
      "text/plain": [
       "0        6300\n",
       "1        2899\n",
       "2        5350\n",
       "3       25000\n",
       "4       27700\n",
       "        ...  \n",
       "2494     7800\n",
       "2495     9200\n",
       "2496     9200\n",
       "2497     9200\n",
       "2498     9200\n",
       "Name: price, Length: 2499, dtype: int64"
      ]
     },
     "execution_count": 6,
     "metadata": {},
     "output_type": "execute_result"
    }
   ],
   "source": [
    "df['price']                #selecting the price column"
   ]
  },
  {
   "cell_type": "code",
   "execution_count": 7,
   "id": "fce6ef35",
   "metadata": {},
   "outputs": [
    {
     "data": {
      "text/html": [
       "<div>\n",
       "<style scoped>\n",
       "    .dataframe tbody tr th:only-of-type {\n",
       "        vertical-align: middle;\n",
       "    }\n",
       "\n",
       "    .dataframe tbody tr th {\n",
       "        vertical-align: top;\n",
       "    }\n",
       "\n",
       "    .dataframe thead th {\n",
       "        text-align: right;\n",
       "    }\n",
       "</style>\n",
       "<table border=\"1\" class=\"dataframe\">\n",
       "  <thead>\n",
       "    <tr style=\"text-align: right;\">\n",
       "      <th></th>\n",
       "      <th>Unnamed: 0</th>\n",
       "      <th>price</th>\n",
       "      <th>brand</th>\n",
       "      <th>model</th>\n",
       "      <th>year</th>\n",
       "      <th>title_status</th>\n",
       "      <th>mileage</th>\n",
       "      <th>color</th>\n",
       "      <th>vin</th>\n",
       "      <th>lot</th>\n",
       "      <th>state</th>\n",
       "      <th>country</th>\n",
       "      <th>condition</th>\n",
       "    </tr>\n",
       "  </thead>\n",
       "  <tbody>\n",
       "    <tr>\n",
       "      <th>0</th>\n",
       "      <td>False</td>\n",
       "      <td>False</td>\n",
       "      <td>False</td>\n",
       "      <td>False</td>\n",
       "      <td>False</td>\n",
       "      <td>False</td>\n",
       "      <td>False</td>\n",
       "      <td>False</td>\n",
       "      <td>False</td>\n",
       "      <td>False</td>\n",
       "      <td>False</td>\n",
       "      <td>False</td>\n",
       "      <td>False</td>\n",
       "    </tr>\n",
       "    <tr>\n",
       "      <th>1</th>\n",
       "      <td>False</td>\n",
       "      <td>False</td>\n",
       "      <td>False</td>\n",
       "      <td>False</td>\n",
       "      <td>False</td>\n",
       "      <td>False</td>\n",
       "      <td>False</td>\n",
       "      <td>False</td>\n",
       "      <td>False</td>\n",
       "      <td>False</td>\n",
       "      <td>False</td>\n",
       "      <td>False</td>\n",
       "      <td>False</td>\n",
       "    </tr>\n",
       "    <tr>\n",
       "      <th>2</th>\n",
       "      <td>False</td>\n",
       "      <td>False</td>\n",
       "      <td>False</td>\n",
       "      <td>False</td>\n",
       "      <td>False</td>\n",
       "      <td>False</td>\n",
       "      <td>False</td>\n",
       "      <td>False</td>\n",
       "      <td>False</td>\n",
       "      <td>False</td>\n",
       "      <td>False</td>\n",
       "      <td>False</td>\n",
       "      <td>False</td>\n",
       "    </tr>\n",
       "    <tr>\n",
       "      <th>3</th>\n",
       "      <td>False</td>\n",
       "      <td>False</td>\n",
       "      <td>False</td>\n",
       "      <td>False</td>\n",
       "      <td>False</td>\n",
       "      <td>False</td>\n",
       "      <td>False</td>\n",
       "      <td>False</td>\n",
       "      <td>False</td>\n",
       "      <td>False</td>\n",
       "      <td>False</td>\n",
       "      <td>False</td>\n",
       "      <td>False</td>\n",
       "    </tr>\n",
       "    <tr>\n",
       "      <th>4</th>\n",
       "      <td>False</td>\n",
       "      <td>False</td>\n",
       "      <td>False</td>\n",
       "      <td>False</td>\n",
       "      <td>False</td>\n",
       "      <td>False</td>\n",
       "      <td>False</td>\n",
       "      <td>False</td>\n",
       "      <td>False</td>\n",
       "      <td>False</td>\n",
       "      <td>False</td>\n",
       "      <td>False</td>\n",
       "      <td>False</td>\n",
       "    </tr>\n",
       "    <tr>\n",
       "      <th>...</th>\n",
       "      <td>...</td>\n",
       "      <td>...</td>\n",
       "      <td>...</td>\n",
       "      <td>...</td>\n",
       "      <td>...</td>\n",
       "      <td>...</td>\n",
       "      <td>...</td>\n",
       "      <td>...</td>\n",
       "      <td>...</td>\n",
       "      <td>...</td>\n",
       "      <td>...</td>\n",
       "      <td>...</td>\n",
       "      <td>...</td>\n",
       "    </tr>\n",
       "    <tr>\n",
       "      <th>2494</th>\n",
       "      <td>False</td>\n",
       "      <td>False</td>\n",
       "      <td>False</td>\n",
       "      <td>False</td>\n",
       "      <td>False</td>\n",
       "      <td>False</td>\n",
       "      <td>False</td>\n",
       "      <td>False</td>\n",
       "      <td>False</td>\n",
       "      <td>False</td>\n",
       "      <td>False</td>\n",
       "      <td>False</td>\n",
       "      <td>False</td>\n",
       "    </tr>\n",
       "    <tr>\n",
       "      <th>2495</th>\n",
       "      <td>False</td>\n",
       "      <td>False</td>\n",
       "      <td>False</td>\n",
       "      <td>False</td>\n",
       "      <td>False</td>\n",
       "      <td>False</td>\n",
       "      <td>False</td>\n",
       "      <td>False</td>\n",
       "      <td>False</td>\n",
       "      <td>False</td>\n",
       "      <td>False</td>\n",
       "      <td>False</td>\n",
       "      <td>False</td>\n",
       "    </tr>\n",
       "    <tr>\n",
       "      <th>2496</th>\n",
       "      <td>False</td>\n",
       "      <td>False</td>\n",
       "      <td>False</td>\n",
       "      <td>False</td>\n",
       "      <td>False</td>\n",
       "      <td>False</td>\n",
       "      <td>False</td>\n",
       "      <td>False</td>\n",
       "      <td>False</td>\n",
       "      <td>False</td>\n",
       "      <td>False</td>\n",
       "      <td>False</td>\n",
       "      <td>False</td>\n",
       "    </tr>\n",
       "    <tr>\n",
       "      <th>2497</th>\n",
       "      <td>False</td>\n",
       "      <td>False</td>\n",
       "      <td>False</td>\n",
       "      <td>False</td>\n",
       "      <td>False</td>\n",
       "      <td>False</td>\n",
       "      <td>False</td>\n",
       "      <td>False</td>\n",
       "      <td>False</td>\n",
       "      <td>False</td>\n",
       "      <td>False</td>\n",
       "      <td>False</td>\n",
       "      <td>False</td>\n",
       "    </tr>\n",
       "    <tr>\n",
       "      <th>2498</th>\n",
       "      <td>False</td>\n",
       "      <td>False</td>\n",
       "      <td>False</td>\n",
       "      <td>False</td>\n",
       "      <td>False</td>\n",
       "      <td>False</td>\n",
       "      <td>False</td>\n",
       "      <td>False</td>\n",
       "      <td>False</td>\n",
       "      <td>False</td>\n",
       "      <td>False</td>\n",
       "      <td>False</td>\n",
       "      <td>False</td>\n",
       "    </tr>\n",
       "  </tbody>\n",
       "</table>\n",
       "<p>2499 rows × 13 columns</p>\n",
       "</div>"
      ],
      "text/plain": [
       "      Unnamed: 0  price  brand  model   year  title_status  mileage  color  \\\n",
       "0          False  False  False  False  False         False    False  False   \n",
       "1          False  False  False  False  False         False    False  False   \n",
       "2          False  False  False  False  False         False    False  False   \n",
       "3          False  False  False  False  False         False    False  False   \n",
       "4          False  False  False  False  False         False    False  False   \n",
       "...          ...    ...    ...    ...    ...           ...      ...    ...   \n",
       "2494       False  False  False  False  False         False    False  False   \n",
       "2495       False  False  False  False  False         False    False  False   \n",
       "2496       False  False  False  False  False         False    False  False   \n",
       "2497       False  False  False  False  False         False    False  False   \n",
       "2498       False  False  False  False  False         False    False  False   \n",
       "\n",
       "        vin    lot  state  country  condition  \n",
       "0     False  False  False    False      False  \n",
       "1     False  False  False    False      False  \n",
       "2     False  False  False    False      False  \n",
       "3     False  False  False    False      False  \n",
       "4     False  False  False    False      False  \n",
       "...     ...    ...    ...      ...        ...  \n",
       "2494  False  False  False    False      False  \n",
       "2495  False  False  False    False      False  \n",
       "2496  False  False  False    False      False  \n",
       "2497  False  False  False    False      False  \n",
       "2498  False  False  False    False      False  \n",
       "\n",
       "[2499 rows x 13 columns]"
      ]
     },
     "execution_count": 7,
     "metadata": {},
     "output_type": "execute_result"
    }
   ],
   "source": [
    "df.isnull()               #true means the value is null, false means the value is not null."
   ]
  },
  {
   "cell_type": "code",
   "execution_count": 8,
   "id": "76874267",
   "metadata": {},
   "outputs": [
    {
     "data": {
      "text/plain": [
       "Unnamed: 0      0\n",
       "price           0\n",
       "brand           0\n",
       "model           0\n",
       "year            0\n",
       "title_status    0\n",
       "mileage         0\n",
       "color           0\n",
       "vin             0\n",
       "lot             0\n",
       "state           0\n",
       "country         0\n",
       "condition       0\n",
       "dtype: int64"
      ]
     },
     "execution_count": 8,
     "metadata": {},
     "output_type": "execute_result"
    }
   ],
   "source": [
    "df.isnull().sum()          #how many null values are there in the dataset"
   ]
  },
  {
   "cell_type": "code",
   "execution_count": 9,
   "id": "c400409c",
   "metadata": {},
   "outputs": [
    {
     "data": {
      "text/plain": [
       "0          toyota\n",
       "1            ford\n",
       "2           dodge\n",
       "3            ford\n",
       "4       chevrolet\n",
       "          ...    \n",
       "2494       nissan\n",
       "2495       nissan\n",
       "2496       nissan\n",
       "2497       nissan\n",
       "2498       nissan\n",
       "Name: brand, Length: 2499, dtype: object"
      ]
     },
     "execution_count": 9,
     "metadata": {},
     "output_type": "execute_result"
    }
   ],
   "source": [
    "df['brand']"
   ]
  },
  {
   "cell_type": "code",
   "execution_count": 10,
   "id": "8d884d30",
   "metadata": {},
   "outputs": [
    {
     "data": {
      "text/plain": [
       "array(['toyota', 'ford', 'dodge', 'chevrolet', 'gmc', 'chrysler', 'kia',\n",
       "       'buick', 'infiniti', 'mercedes-benz', 'jeep', 'bmw', 'cadillac',\n",
       "       'hyundai', 'mazda', 'honda', 'heartland', 'jaguar', 'acura',\n",
       "       'harley-davidson', 'audi', 'lincoln', 'lexus', 'nissan', 'land',\n",
       "       'maserati', 'peterbilt', 'ram'], dtype=object)"
      ]
     },
     "execution_count": 10,
     "metadata": {},
     "output_type": "execute_result"
    }
   ],
   "source": [
    "#how many unique cars brands\n",
    "df['brand'].unique()"
   ]
  },
  {
   "cell_type": "code",
   "execution_count": 11,
   "id": "590b106f",
   "metadata": {},
   "outputs": [
    {
     "data": {
      "text/plain": [
       "28"
      ]
     },
     "execution_count": 11,
     "metadata": {},
     "output_type": "execute_result"
    }
   ],
   "source": [
    "len(df['brand'].unique())  #number of unique cars "
   ]
  },
  {
   "cell_type": "code",
   "execution_count": 12,
   "id": "67c26233",
   "metadata": {},
   "outputs": [
    {
     "data": {
      "text/plain": [
       "array(['cruiser', 'se', 'mpv', 'door', '1500', 'pk', 'malibu', 'coupe',\n",
       "       'wagon', 'forte', 'encore', 'sorento', 'doors', 'chassis', 'q70',\n",
       "       'camaro', 'convertible', 'vans', 'srw', 'compass', 'enclave',\n",
       "       '300', 'cherokee', 'pacifica', 'x3', 'equinox', 'challenger', 'm',\n",
       "       'colorado', 'focus', 'durango', 'escape', 'charger', 'explorer',\n",
       "       'f-150', '3500', 'caravan', 'van', 'dart', '2500', 'esv',\n",
       "       'cutaway', 'el', 'edge', 'series', 'flex', 'srx', 'cab', 'pickup',\n",
       "       'vehicl', 'trax', 'tahoe', 'suburban', 'cargo', 'drw', 'fiesta',\n",
       "       'impala', 'soul', 'elantra', 'pioneer', 'trail', 'traverse',\n",
       "       'country', 'sundance', 'road/street', 'nautilus', 'gx', 'q5',\n",
       "       'gle', 'sportage', '5', 'sport', 'discovery', 'acadia', 'ghibli',\n",
       "       'glc', 'e-class', 'truck', 'utility', 'limited', 'sl-class',\n",
       "       'cx-3', '2500hd', 'sonic', 'corvette', 'mdx', 'xt5', 'fusion',\n",
       "       'mustang', 'passenger', 'volt', 'spark', 'cruze', 'ld', 'journey',\n",
       "       'transit', 'ranger', 'taurus', 'max', 'energi', 'expedition',\n",
       "       'bus', 'ecosport', 'f-750', 'd', 'dr', 'hybrid', 'suv', 'connect',\n",
       "       'f-650', 'sentra', 'altima', 'frontier', 'rogue', 'maxima',\n",
       "       'versa', 'note', 'armada', 'pathfinder', 'titan', 'sedan', 'juke',\n",
       "       'murano', 'xterra', 'kicks', 'xd', 'nvp'], dtype=object)"
      ]
     },
     "execution_count": 12,
     "metadata": {},
     "output_type": "execute_result"
    }
   ],
   "source": [
    "#how many unique model cars \n",
    "df['model'].unique()"
   ]
  },
  {
   "cell_type": "code",
   "execution_count": 13,
   "id": "e0a19a94",
   "metadata": {},
   "outputs": [
    {
     "data": {
      "text/plain": [
       "array([2008, 2011, 2018, 2014, 2010, 2017, 2009, 2013, 2015, 2020, 2016,\n",
       "       1973, 2003, 2019, 2002, 2000, 2001, 2005, 2012, 2006, 2007, 1998,\n",
       "       2004, 1994, 1997, 1996, 1999, 1984, 1995, 1993], dtype=int64)"
      ]
     },
     "execution_count": 13,
     "metadata": {},
     "output_type": "execute_result"
    }
   ],
   "source": [
    "df['year'].unique() #cars from various years"
   ]
  },
  {
   "cell_type": "code",
   "execution_count": 14,
   "id": "17210f36",
   "metadata": {},
   "outputs": [
    {
     "data": {
      "text/plain": [
       "array(['clean vehicle', 'salvage insurance'], dtype=object)"
      ]
     },
     "execution_count": 14,
     "metadata": {},
     "output_type": "execute_result"
    }
   ],
   "source": [
    "df['title_status'].unique()"
   ]
  },
  {
   "cell_type": "code",
   "execution_count": 15,
   "id": "4a2a3b40",
   "metadata": {},
   "outputs": [
    {
     "data": {
      "text/plain": [
       "array(['black', 'silver', 'blue', 'red', 'white', 'gray', 'orange',\n",
       "       'brown', 'no_color', 'gold', 'charcoal', 'turquoise', 'beige',\n",
       "       'green', 'dark blue', 'maroon', 'phantom black', 'yellow',\n",
       "       'color:', 'light blue', 'toreador red', 'bright white clearcoat',\n",
       "       'billet silver metallic clearcoat', 'black clearcoat',\n",
       "       'jazz blue pearlcoat', 'purple',\n",
       "       'ruby red metallic tinted clearcoat', 'triple yellow tri-coat',\n",
       "       'competition orange', 'off-white', 'shadow black',\n",
       "       'magnetic metallic', 'ingot silver metallic', 'ruby red',\n",
       "       'royal crimson metallic tinted clearcoat', 'kona blue metallic',\n",
       "       'oxford white', 'lightning blue', 'ingot silver',\n",
       "       'white platinum tri-coat metallic', 'guard',\n",
       "       'tuxedo black metallic', 'tan', 'burgundy', 'super black',\n",
       "       'cayenne red', 'morningsky blue', 'pearl white', 'glacier white'],\n",
       "      dtype=object)"
      ]
     },
     "execution_count": 15,
     "metadata": {},
     "output_type": "execute_result"
    }
   ],
   "source": [
    "df['color'].unique() #how many colours "
   ]
  },
  {
   "cell_type": "code",
   "execution_count": 16,
   "id": "fd0b24c8",
   "metadata": {},
   "outputs": [
    {
     "data": {
      "text/plain": [
       "array(['new jersey', 'tennessee', 'georgia', 'virginia', 'florida',\n",
       "       'texas', 'california', 'north carolina', 'ohio', 'new york',\n",
       "       'pennsylvania', 'south carolina', 'michigan', 'washington',\n",
       "       'arizona', 'utah', 'kentucky', 'massachusetts', 'nebraska',\n",
       "       'ontario', 'missouri', 'minnesota', 'oklahoma', 'connecticut',\n",
       "       'indiana', 'arkansas', 'kansas', 'wyoming', 'colorado', 'illinois',\n",
       "       'wisconsin', 'mississippi', 'maryland', 'oregon', 'west virginia',\n",
       "       'nevada', 'rhode island', 'louisiana', 'alabama', 'new mexico',\n",
       "       'idaho', 'new hampshire', 'montana', 'vermont'], dtype=object)"
      ]
     },
     "execution_count": 16,
     "metadata": {},
     "output_type": "execute_result"
    }
   ],
   "source": [
    "df['state'].unique()"
   ]
  },
  {
   "cell_type": "code",
   "execution_count": 17,
   "id": "60e8a256",
   "metadata": {},
   "outputs": [
    {
     "data": {
      "text/plain": [
       "array([' usa', ' canada'], dtype=object)"
      ]
     },
     "execution_count": 17,
     "metadata": {},
     "output_type": "execute_result"
    }
   ],
   "source": [
    "df['country'].unique()"
   ]
  },
  {
   "cell_type": "code",
   "execution_count": 18,
   "id": "84cf4c52",
   "metadata": {},
   "outputs": [
    {
     "data": {
      "text/plain": [
       "18767"
      ]
     },
     "execution_count": 18,
     "metadata": {},
     "output_type": "execute_result"
    }
   ],
   "source": [
    "df['price'].sum() // len(df['price'])  #average car price in usa"
   ]
  },
  {
   "cell_type": "code",
   "execution_count": 19,
   "id": "6b6c4921",
   "metadata": {},
   "outputs": [
    {
     "data": {
      "text/plain": [
       "52298.0"
      ]
     },
     "execution_count": 19,
     "metadata": {},
     "output_type": "execute_result"
    }
   ],
   "source": [
    "df['mileage'].sum() // len(df['mileage'])  #average car mileage in usa"
   ]
  },
  {
   "cell_type": "code",
   "execution_count": 20,
   "id": "0ac30b16",
   "metadata": {},
   "outputs": [],
   "source": [
    "del df['vin']  #delete vin column"
   ]
  },
  {
   "cell_type": "code",
   "execution_count": 21,
   "id": "bd850193",
   "metadata": {},
   "outputs": [
    {
     "data": {
      "text/plain": [
       "84900"
      ]
     },
     "execution_count": 21,
     "metadata": {},
     "output_type": "execute_result"
    }
   ],
   "source": [
    "df['price'].max()    #max value of a car in the dataset\n"
   ]
  },
  {
   "cell_type": "code",
   "execution_count": 22,
   "id": "746296f3",
   "metadata": {},
   "outputs": [
    {
     "data": {
      "text/plain": [
       "0"
      ]
     },
     "execution_count": 22,
     "metadata": {},
     "output_type": "execute_result"
    }
   ],
   "source": [
    "df['price'].min()    #min value of a car in the dataset"
   ]
  },
  {
   "cell_type": "code",
   "execution_count": 23,
   "id": "9e722199",
   "metadata": {},
   "outputs": [
    {
     "data": {
      "text/plain": [
       "1017936.0"
      ]
     },
     "execution_count": 23,
     "metadata": {},
     "output_type": "execute_result"
    }
   ],
   "source": [
    "df['mileage'].max()"
   ]
  },
  {
   "cell_type": "code",
   "execution_count": 24,
   "id": "6d88a213",
   "metadata": {},
   "outputs": [
    {
     "data": {
      "text/plain": [
       "0        True\n",
       "1       False\n",
       "2       False\n",
       "3       False\n",
       "4       False\n",
       "        ...  \n",
       "2494    False\n",
       "2495    False\n",
       "2496    False\n",
       "2497    False\n",
       "2498    False\n",
       "Name: brand, Length: 2499, dtype: bool"
      ]
     },
     "execution_count": 24,
     "metadata": {},
     "output_type": "execute_result"
    }
   ],
   "source": [
    "df['brand']  == 'toyota'         #if brand is toyota, it will be true, else it will return false  "
   ]
  },
  {
   "cell_type": "code",
   "execution_count": 25,
   "id": "d19eddc7",
   "metadata": {},
   "outputs": [
    {
     "data": {
      "text/html": [
       "<div>\n",
       "<style scoped>\n",
       "    .dataframe tbody tr th:only-of-type {\n",
       "        vertical-align: middle;\n",
       "    }\n",
       "\n",
       "    .dataframe tbody tr th {\n",
       "        vertical-align: top;\n",
       "    }\n",
       "\n",
       "    .dataframe thead th {\n",
       "        text-align: right;\n",
       "    }\n",
       "</style>\n",
       "<table border=\"1\" class=\"dataframe\">\n",
       "  <thead>\n",
       "    <tr style=\"text-align: right;\">\n",
       "      <th></th>\n",
       "      <th>Unnamed: 0</th>\n",
       "      <th>price</th>\n",
       "      <th>brand</th>\n",
       "      <th>model</th>\n",
       "      <th>year</th>\n",
       "      <th>title_status</th>\n",
       "      <th>mileage</th>\n",
       "      <th>color</th>\n",
       "      <th>lot</th>\n",
       "      <th>state</th>\n",
       "      <th>country</th>\n",
       "      <th>condition</th>\n",
       "    </tr>\n",
       "  </thead>\n",
       "  <tbody>\n",
       "    <tr>\n",
       "      <th>0</th>\n",
       "      <td>0</td>\n",
       "      <td>6300</td>\n",
       "      <td>toyota</td>\n",
       "      <td>cruiser</td>\n",
       "      <td>2008</td>\n",
       "      <td>clean vehicle</td>\n",
       "      <td>274117.0</td>\n",
       "      <td>black</td>\n",
       "      <td>159348797</td>\n",
       "      <td>new jersey</td>\n",
       "      <td>usa</td>\n",
       "      <td>10 days left</td>\n",
       "    </tr>\n",
       "  </tbody>\n",
       "</table>\n",
       "</div>"
      ],
      "text/plain": [
       "   Unnamed: 0  price   brand    model  year   title_status   mileage  color  \\\n",
       "0           0   6300  toyota  cruiser  2008  clean vehicle  274117.0  black   \n",
       "\n",
       "         lot       state country     condition  \n",
       "0  159348797  new jersey     usa  10 days left  "
      ]
     },
     "execution_count": 25,
     "metadata": {},
     "output_type": "execute_result"
    }
   ],
   "source": [
    "df[df['brand']  == 'toyota']      #how many vehicle from toyota"
   ]
  },
  {
   "cell_type": "code",
   "execution_count": 26,
   "id": "c464188c",
   "metadata": {},
   "outputs": [
    {
     "data": {
      "text/html": [
       "<div>\n",
       "<style scoped>\n",
       "    .dataframe tbody tr th:only-of-type {\n",
       "        vertical-align: middle;\n",
       "    }\n",
       "\n",
       "    .dataframe tbody tr th {\n",
       "        vertical-align: top;\n",
       "    }\n",
       "\n",
       "    .dataframe thead th {\n",
       "        text-align: right;\n",
       "    }\n",
       "</style>\n",
       "<table border=\"1\" class=\"dataframe\">\n",
       "  <thead>\n",
       "    <tr style=\"text-align: right;\">\n",
       "      <th></th>\n",
       "      <th>Unnamed: 0</th>\n",
       "      <th>price</th>\n",
       "      <th>brand</th>\n",
       "      <th>model</th>\n",
       "      <th>year</th>\n",
       "      <th>title_status</th>\n",
       "      <th>mileage</th>\n",
       "      <th>color</th>\n",
       "      <th>lot</th>\n",
       "      <th>state</th>\n",
       "      <th>country</th>\n",
       "      <th>condition</th>\n",
       "    </tr>\n",
       "  </thead>\n",
       "  <tbody>\n",
       "    <tr>\n",
       "      <th>1</th>\n",
       "      <td>1</td>\n",
       "      <td>2899</td>\n",
       "      <td>ford</td>\n",
       "      <td>se</td>\n",
       "      <td>2011</td>\n",
       "      <td>clean vehicle</td>\n",
       "      <td>190552.0</td>\n",
       "      <td>silver</td>\n",
       "      <td>166951262</td>\n",
       "      <td>tennessee</td>\n",
       "      <td>usa</td>\n",
       "      <td>6 days left</td>\n",
       "    </tr>\n",
       "    <tr>\n",
       "      <th>3</th>\n",
       "      <td>3</td>\n",
       "      <td>25000</td>\n",
       "      <td>ford</td>\n",
       "      <td>door</td>\n",
       "      <td>2014</td>\n",
       "      <td>clean vehicle</td>\n",
       "      <td>64146.0</td>\n",
       "      <td>blue</td>\n",
       "      <td>167753855</td>\n",
       "      <td>virginia</td>\n",
       "      <td>usa</td>\n",
       "      <td>22 hours left</td>\n",
       "    </tr>\n",
       "    <tr>\n",
       "      <th>9</th>\n",
       "      <td>9</td>\n",
       "      <td>5250</td>\n",
       "      <td>ford</td>\n",
       "      <td>mpv</td>\n",
       "      <td>2017</td>\n",
       "      <td>clean vehicle</td>\n",
       "      <td>63418.0</td>\n",
       "      <td>black</td>\n",
       "      <td>167656121</td>\n",
       "      <td>texas</td>\n",
       "      <td>usa</td>\n",
       "      <td>2 days left</td>\n",
       "    </tr>\n",
       "    <tr>\n",
       "      <th>14</th>\n",
       "      <td>14</td>\n",
       "      <td>20700</td>\n",
       "      <td>ford</td>\n",
       "      <td>door</td>\n",
       "      <td>2013</td>\n",
       "      <td>clean vehicle</td>\n",
       "      <td>100757.0</td>\n",
       "      <td>black</td>\n",
       "      <td>167753916</td>\n",
       "      <td>virginia</td>\n",
       "      <td>usa</td>\n",
       "      <td>22 hours left</td>\n",
       "    </tr>\n",
       "    <tr>\n",
       "      <th>18</th>\n",
       "      <td>18</td>\n",
       "      <td>5210</td>\n",
       "      <td>ford</td>\n",
       "      <td>mpv</td>\n",
       "      <td>2017</td>\n",
       "      <td>clean vehicle</td>\n",
       "      <td>35714.0</td>\n",
       "      <td>white</td>\n",
       "      <td>167656124</td>\n",
       "      <td>texas</td>\n",
       "      <td>usa</td>\n",
       "      <td>2 days left</td>\n",
       "    </tr>\n",
       "    <tr>\n",
       "      <th>...</th>\n",
       "      <td>...</td>\n",
       "      <td>...</td>\n",
       "      <td>...</td>\n",
       "      <td>...</td>\n",
       "      <td>...</td>\n",
       "      <td>...</td>\n",
       "      <td>...</td>\n",
       "      <td>...</td>\n",
       "      <td>...</td>\n",
       "      <td>...</td>\n",
       "      <td>...</td>\n",
       "      <td>...</td>\n",
       "    </tr>\n",
       "    <tr>\n",
       "      <th>2199</th>\n",
       "      <td>2199</td>\n",
       "      <td>13800</td>\n",
       "      <td>ford</td>\n",
       "      <td>fusion</td>\n",
       "      <td>2019</td>\n",
       "      <td>clean vehicle</td>\n",
       "      <td>29345.0</td>\n",
       "      <td>white</td>\n",
       "      <td>167802379</td>\n",
       "      <td>north carolina</td>\n",
       "      <td>usa</td>\n",
       "      <td>2 days left</td>\n",
       "    </tr>\n",
       "    <tr>\n",
       "      <th>2200</th>\n",
       "      <td>2200</td>\n",
       "      <td>56000</td>\n",
       "      <td>ford</td>\n",
       "      <td>srw</td>\n",
       "      <td>2018</td>\n",
       "      <td>clean vehicle</td>\n",
       "      <td>25371.0</td>\n",
       "      <td>black</td>\n",
       "      <td>167749689</td>\n",
       "      <td>pennsylvania</td>\n",
       "      <td>usa</td>\n",
       "      <td>3 days left</td>\n",
       "    </tr>\n",
       "    <tr>\n",
       "      <th>2201</th>\n",
       "      <td>2201</td>\n",
       "      <td>13800</td>\n",
       "      <td>ford</td>\n",
       "      <td>fusion</td>\n",
       "      <td>2019</td>\n",
       "      <td>clean vehicle</td>\n",
       "      <td>30054.0</td>\n",
       "      <td>silver</td>\n",
       "      <td>167802380</td>\n",
       "      <td>north carolina</td>\n",
       "      <td>usa</td>\n",
       "      <td>2 days left</td>\n",
       "    </tr>\n",
       "    <tr>\n",
       "      <th>2202</th>\n",
       "      <td>2202</td>\n",
       "      <td>45800</td>\n",
       "      <td>ford</td>\n",
       "      <td>srw</td>\n",
       "      <td>2018</td>\n",
       "      <td>clean vehicle</td>\n",
       "      <td>11173.0</td>\n",
       "      <td>white</td>\n",
       "      <td>167749690</td>\n",
       "      <td>pennsylvania</td>\n",
       "      <td>usa</td>\n",
       "      <td>2 days left</td>\n",
       "    </tr>\n",
       "    <tr>\n",
       "      <th>2203</th>\n",
       "      <td>2203</td>\n",
       "      <td>13800</td>\n",
       "      <td>ford</td>\n",
       "      <td>fusion</td>\n",
       "      <td>2019</td>\n",
       "      <td>clean vehicle</td>\n",
       "      <td>30902.0</td>\n",
       "      <td>no_color</td>\n",
       "      <td>167802381</td>\n",
       "      <td>north carolina</td>\n",
       "      <td>usa</td>\n",
       "      <td>2 days left</td>\n",
       "    </tr>\n",
       "  </tbody>\n",
       "</table>\n",
       "<p>1235 rows × 12 columns</p>\n",
       "</div>"
      ],
      "text/plain": [
       "      Unnamed: 0  price brand   model  year   title_status   mileage  \\\n",
       "1              1   2899  ford      se  2011  clean vehicle  190552.0   \n",
       "3              3  25000  ford    door  2014  clean vehicle   64146.0   \n",
       "9              9   5250  ford     mpv  2017  clean vehicle   63418.0   \n",
       "14            14  20700  ford    door  2013  clean vehicle  100757.0   \n",
       "18            18   5210  ford     mpv  2017  clean vehicle   35714.0   \n",
       "...          ...    ...   ...     ...   ...            ...       ...   \n",
       "2199        2199  13800  ford  fusion  2019  clean vehicle   29345.0   \n",
       "2200        2200  56000  ford     srw  2018  clean vehicle   25371.0   \n",
       "2201        2201  13800  ford  fusion  2019  clean vehicle   30054.0   \n",
       "2202        2202  45800  ford     srw  2018  clean vehicle   11173.0   \n",
       "2203        2203  13800  ford  fusion  2019  clean vehicle   30902.0   \n",
       "\n",
       "         color        lot           state country      condition  \n",
       "1       silver  166951262       tennessee     usa    6 days left  \n",
       "3         blue  167753855        virginia     usa  22 hours left  \n",
       "9        black  167656121           texas     usa    2 days left  \n",
       "14       black  167753916        virginia     usa  22 hours left  \n",
       "18       white  167656124           texas     usa    2 days left  \n",
       "...        ...        ...             ...     ...            ...  \n",
       "2199     white  167802379  north carolina     usa    2 days left  \n",
       "2200     black  167749689    pennsylvania     usa    3 days left  \n",
       "2201    silver  167802380  north carolina     usa    2 days left  \n",
       "2202     white  167749690    pennsylvania     usa    2 days left  \n",
       "2203  no_color  167802381  north carolina     usa    2 days left  \n",
       "\n",
       "[1235 rows x 12 columns]"
      ]
     },
     "execution_count": 26,
     "metadata": {},
     "output_type": "execute_result"
    }
   ],
   "source": [
    "df[df['brand']  == 'ford']      #how many vehicle from dodge"
   ]
  },
  {
   "cell_type": "code",
   "execution_count": 27,
   "id": "69028238",
   "metadata": {},
   "outputs": [
    {
     "data": {
      "text/html": [
       "<div>\n",
       "<style scoped>\n",
       "    .dataframe tbody tr th:only-of-type {\n",
       "        vertical-align: middle;\n",
       "    }\n",
       "\n",
       "    .dataframe tbody tr th {\n",
       "        vertical-align: top;\n",
       "    }\n",
       "\n",
       "    .dataframe thead th {\n",
       "        text-align: right;\n",
       "    }\n",
       "</style>\n",
       "<table border=\"1\" class=\"dataframe\">\n",
       "  <thead>\n",
       "    <tr style=\"text-align: right;\">\n",
       "      <th></th>\n",
       "      <th>Unnamed: 0</th>\n",
       "      <th>price</th>\n",
       "      <th>brand</th>\n",
       "      <th>model</th>\n",
       "      <th>year</th>\n",
       "      <th>title_status</th>\n",
       "      <th>mileage</th>\n",
       "      <th>color</th>\n",
       "      <th>lot</th>\n",
       "      <th>state</th>\n",
       "      <th>country</th>\n",
       "      <th>condition</th>\n",
       "    </tr>\n",
       "  </thead>\n",
       "  <tbody>\n",
       "    <tr>\n",
       "      <th>2</th>\n",
       "      <td>2</td>\n",
       "      <td>5350</td>\n",
       "      <td>dodge</td>\n",
       "      <td>mpv</td>\n",
       "      <td>2018</td>\n",
       "      <td>clean vehicle</td>\n",
       "      <td>39590.0</td>\n",
       "      <td>silver</td>\n",
       "      <td>167655728</td>\n",
       "      <td>georgia</td>\n",
       "      <td>usa</td>\n",
       "      <td>2 days left</td>\n",
       "    </tr>\n",
       "    <tr>\n",
       "      <th>5</th>\n",
       "      <td>5</td>\n",
       "      <td>5700</td>\n",
       "      <td>dodge</td>\n",
       "      <td>mpv</td>\n",
       "      <td>2018</td>\n",
       "      <td>clean vehicle</td>\n",
       "      <td>45561.0</td>\n",
       "      <td>white</td>\n",
       "      <td>167655771</td>\n",
       "      <td>texas</td>\n",
       "      <td>usa</td>\n",
       "      <td>2 days left</td>\n",
       "    </tr>\n",
       "    <tr>\n",
       "      <th>10</th>\n",
       "      <td>10</td>\n",
       "      <td>10400</td>\n",
       "      <td>dodge</td>\n",
       "      <td>coupe</td>\n",
       "      <td>2009</td>\n",
       "      <td>clean vehicle</td>\n",
       "      <td>107856.0</td>\n",
       "      <td>orange</td>\n",
       "      <td>167753874</td>\n",
       "      <td>georgia</td>\n",
       "      <td>usa</td>\n",
       "      <td>22 hours left</td>\n",
       "    </tr>\n",
       "    <tr>\n",
       "      <th>48</th>\n",
       "      <td>48</td>\n",
       "      <td>5580</td>\n",
       "      <td>dodge</td>\n",
       "      <td>mpv</td>\n",
       "      <td>2017</td>\n",
       "      <td>clean vehicle</td>\n",
       "      <td>46829.0</td>\n",
       "      <td>gray</td>\n",
       "      <td>167656130</td>\n",
       "      <td>texas</td>\n",
       "      <td>usa</td>\n",
       "      <td>2 days left</td>\n",
       "    </tr>\n",
       "    <tr>\n",
       "      <th>94</th>\n",
       "      <td>94</td>\n",
       "      <td>39800</td>\n",
       "      <td>dodge</td>\n",
       "      <td>challenger</td>\n",
       "      <td>2015</td>\n",
       "      <td>clean vehicle</td>\n",
       "      <td>3641.0</td>\n",
       "      <td>white</td>\n",
       "      <td>167755377</td>\n",
       "      <td>pennsylvania</td>\n",
       "      <td>usa</td>\n",
       "      <td>2 days left</td>\n",
       "    </tr>\n",
       "    <tr>\n",
       "      <th>...</th>\n",
       "      <td>...</td>\n",
       "      <td>...</td>\n",
       "      <td>...</td>\n",
       "      <td>...</td>\n",
       "      <td>...</td>\n",
       "      <td>...</td>\n",
       "      <td>...</td>\n",
       "      <td>...</td>\n",
       "      <td>...</td>\n",
       "      <td>...</td>\n",
       "      <td>...</td>\n",
       "      <td>...</td>\n",
       "    </tr>\n",
       "    <tr>\n",
       "      <th>1193</th>\n",
       "      <td>1193</td>\n",
       "      <td>23900</td>\n",
       "      <td>dodge</td>\n",
       "      <td>charger</td>\n",
       "      <td>2019</td>\n",
       "      <td>clean vehicle</td>\n",
       "      <td>35248.0</td>\n",
       "      <td>white</td>\n",
       "      <td>167752939</td>\n",
       "      <td>georgia</td>\n",
       "      <td>usa</td>\n",
       "      <td>21 hours left</td>\n",
       "    </tr>\n",
       "    <tr>\n",
       "      <th>1194</th>\n",
       "      <td>1194</td>\n",
       "      <td>14500</td>\n",
       "      <td>dodge</td>\n",
       "      <td>caravan</td>\n",
       "      <td>2018</td>\n",
       "      <td>clean vehicle</td>\n",
       "      <td>40417.0</td>\n",
       "      <td>no_color</td>\n",
       "      <td>167802408</td>\n",
       "      <td>florida</td>\n",
       "      <td>usa</td>\n",
       "      <td>27 minutes</td>\n",
       "    </tr>\n",
       "    <tr>\n",
       "      <th>1195</th>\n",
       "      <td>1195</td>\n",
       "      <td>23000</td>\n",
       "      <td>dodge</td>\n",
       "      <td>durango</td>\n",
       "      <td>2017</td>\n",
       "      <td>clean vehicle</td>\n",
       "      <td>30309.0</td>\n",
       "      <td>gray</td>\n",
       "      <td>167753011</td>\n",
       "      <td>virginia</td>\n",
       "      <td>usa</td>\n",
       "      <td>21 hours left</td>\n",
       "    </tr>\n",
       "    <tr>\n",
       "      <th>1196</th>\n",
       "      <td>1196</td>\n",
       "      <td>15000</td>\n",
       "      <td>dodge</td>\n",
       "      <td>journey</td>\n",
       "      <td>2018</td>\n",
       "      <td>clean vehicle</td>\n",
       "      <td>42303.0</td>\n",
       "      <td>red</td>\n",
       "      <td>167803180</td>\n",
       "      <td>north carolina</td>\n",
       "      <td>usa</td>\n",
       "      <td>2 days left</td>\n",
       "    </tr>\n",
       "    <tr>\n",
       "      <th>1197</th>\n",
       "      <td>1197</td>\n",
       "      <td>15000</td>\n",
       "      <td>dodge</td>\n",
       "      <td>journey</td>\n",
       "      <td>2018</td>\n",
       "      <td>clean vehicle</td>\n",
       "      <td>35326.0</td>\n",
       "      <td>white</td>\n",
       "      <td>167803188</td>\n",
       "      <td>north carolina</td>\n",
       "      <td>usa</td>\n",
       "      <td>2 days left</td>\n",
       "    </tr>\n",
       "  </tbody>\n",
       "</table>\n",
       "<p>432 rows × 12 columns</p>\n",
       "</div>"
      ],
      "text/plain": [
       "      Unnamed: 0  price  brand       model  year   title_status   mileage  \\\n",
       "2              2   5350  dodge         mpv  2018  clean vehicle   39590.0   \n",
       "5              5   5700  dodge         mpv  2018  clean vehicle   45561.0   \n",
       "10            10  10400  dodge       coupe  2009  clean vehicle  107856.0   \n",
       "48            48   5580  dodge         mpv  2017  clean vehicle   46829.0   \n",
       "94            94  39800  dodge  challenger  2015  clean vehicle    3641.0   \n",
       "...          ...    ...    ...         ...   ...            ...       ...   \n",
       "1193        1193  23900  dodge     charger  2019  clean vehicle   35248.0   \n",
       "1194        1194  14500  dodge     caravan  2018  clean vehicle   40417.0   \n",
       "1195        1195  23000  dodge     durango  2017  clean vehicle   30309.0   \n",
       "1196        1196  15000  dodge     journey  2018  clean vehicle   42303.0   \n",
       "1197        1197  15000  dodge     journey  2018  clean vehicle   35326.0   \n",
       "\n",
       "         color        lot           state country      condition  \n",
       "2       silver  167655728         georgia     usa    2 days left  \n",
       "5        white  167655771           texas     usa    2 days left  \n",
       "10      orange  167753874         georgia     usa  22 hours left  \n",
       "48        gray  167656130           texas     usa    2 days left  \n",
       "94       white  167755377    pennsylvania     usa    2 days left  \n",
       "...        ...        ...             ...     ...            ...  \n",
       "1193     white  167752939         georgia     usa  21 hours left  \n",
       "1194  no_color  167802408         florida     usa     27 minutes  \n",
       "1195      gray  167753011        virginia     usa  21 hours left  \n",
       "1196       red  167803180  north carolina     usa    2 days left  \n",
       "1197     white  167803188  north carolina     usa    2 days left  \n",
       "\n",
       "[432 rows x 12 columns]"
      ]
     },
     "execution_count": 27,
     "metadata": {},
     "output_type": "execute_result"
    }
   ],
   "source": [
    "df[df['brand']  == 'dodge'] #how many vehicle from dodge"
   ]
  },
  {
   "cell_type": "code",
   "execution_count": 28,
   "id": "f6c3cc95",
   "metadata": {},
   "outputs": [
    {
     "name": "stdout",
     "output_type": "stream",
     "text": [
      "toyota : 1\n",
      "ford : 1235\n",
      "dodge : 432\n",
      "chevrolet : 297\n",
      "gmc : 42\n",
      "chrysler : 18\n",
      "kia : 13\n",
      "buick : 13\n",
      "infiniti : 12\n",
      "mercedes-benz : 10\n",
      "jeep : 30\n",
      "bmw : 17\n",
      "cadillac : 10\n",
      "hyundai : 15\n",
      "mazda : 2\n",
      "honda : 12\n",
      "heartland : 5\n",
      "jaguar : 1\n",
      "acura : 3\n",
      "harley-davidson : 1\n",
      "audi : 4\n",
      "lincoln : 2\n",
      "lexus : 2\n",
      "nissan : 312\n",
      "land : 4\n",
      "maserati : 1\n",
      "peterbilt : 4\n",
      "ram : 1\n"
     ]
    }
   ],
   "source": [
    "for brand in df['brand'].unique():\n",
    "    print(brand, \":\", len(df[df['brand'] == brand]))      #it will return all the cars brands with their numbers "
   ]
  },
  {
   "cell_type": "code",
   "execution_count": 29,
   "id": "6a79d591",
   "metadata": {},
   "outputs": [
    {
     "name": "stdout",
     "output_type": "stream",
     "text": [
      "cruiser : 1\n",
      "se : 1\n",
      "mpv : 87\n",
      "door : 651\n",
      "1500 : 39\n",
      "pk : 5\n",
      "malibu : 12\n",
      "coupe : 6\n",
      "wagon : 30\n",
      "forte : 2\n",
      "encore : 3\n",
      "sorento : 5\n",
      "doors : 148\n",
      "chassis : 4\n",
      "q70 : 1\n",
      "camaro : 6\n",
      "convertible : 1\n",
      "vans : 2\n",
      "srw : 38\n",
      "compass : 6\n",
      "enclave : 2\n",
      "300 : 6\n",
      "cherokee : 3\n",
      "pacifica : 3\n",
      "x3 : 2\n",
      "equinox : 18\n",
      "challenger : 44\n",
      "m : 1\n",
      "colorado : 12\n",
      "focus : 9\n",
      "durango : 64\n",
      "escape : 39\n",
      "charger : 42\n",
      "explorer : 39\n",
      "f-150 : 219\n",
      "3500 : 4\n",
      "caravan : 102\n",
      "van : 46\n",
      "dart : 1\n",
      "2500 : 8\n",
      "esv : 1\n",
      "cutaway : 12\n",
      "el : 3\n",
      "edge : 34\n",
      "series : 8\n",
      "flex : 33\n",
      "srx : 1\n",
      "cab : 8\n",
      "pickup : 15\n",
      "vehicl : 1\n",
      "trax : 8\n",
      "tahoe : 9\n",
      "suburban : 16\n",
      "cargo : 2\n",
      "drw : 10\n",
      "fiesta : 14\n",
      "impala : 12\n",
      "soul : 1\n",
      "elantra : 1\n",
      "pioneer : 1\n",
      "trail : 1\n",
      "traverse : 6\n",
      "country : 2\n",
      "sundance : 1\n",
      "road/street : 1\n",
      "nautilus : 1\n",
      "gx : 1\n",
      "q5 : 1\n",
      "gle : 2\n",
      "sportage : 1\n",
      "5 : 1\n",
      "sport : 40\n",
      "discovery : 1\n",
      "acadia : 1\n",
      "ghibli : 1\n",
      "glc : 1\n",
      "e-class : 1\n",
      "truck : 4\n",
      "utility : 1\n",
      "limited : 1\n",
      "sl-class : 1\n",
      "cx-3 : 1\n",
      "2500hd : 1\n",
      "sonic : 2\n",
      "corvette : 4\n",
      "mdx : 1\n",
      "xt5 : 1\n",
      "fusion : 65\n",
      "mustang : 29\n",
      "passenger : 3\n",
      "volt : 2\n",
      "spark : 1\n",
      "cruze : 2\n",
      "ld : 3\n",
      "journey : 61\n",
      "transit : 41\n",
      "ranger : 6\n",
      "taurus : 10\n",
      "max : 41\n",
      "energi : 1\n",
      "expedition : 28\n",
      "bus : 2\n",
      "ecosport : 7\n",
      "f-750 : 1\n",
      "d : 2\n",
      "dr : 1\n",
      "hybrid : 5\n",
      "suv : 1\n",
      "connect : 1\n",
      "f-650 : 3\n",
      "sentra : 28\n",
      "altima : 21\n",
      "frontier : 14\n",
      "rogue : 54\n",
      "maxima : 3\n",
      "versa : 34\n",
      "note : 2\n",
      "armada : 4\n",
      "pathfinder : 22\n",
      "titan : 5\n",
      "sedan : 4\n",
      "juke : 1\n",
      "murano : 5\n",
      "xterra : 1\n",
      "kicks : 1\n",
      "xd : 1\n",
      "nvp : 1\n"
     ]
    }
   ],
   "source": [
    "for model in df['model'].unique():\n",
    "    print(model, \":\", len(df[df['model'] == model]))      #it will return all the cars models with their numbers "
   ]
  },
  {
   "cell_type": "code",
   "execution_count": 58,
   "id": "36a6e47b",
   "metadata": {},
   "outputs": [
    {
     "name": "stdout",
     "output_type": "stream",
     "text": [
      "black : 516\n",
      "silver : 300\n",
      "blue : 151\n",
      "red : 192\n",
      "white : 707\n",
      "gray : 395\n",
      "orange : 20\n",
      "brown : 15\n",
      "no_color : 61\n",
      "gold : 19\n",
      "charcoal : 18\n",
      "turquoise : 1\n",
      "beige : 5\n",
      "green : 24\n",
      "dark blue : 1\n",
      "maroon : 1\n",
      "phantom black : 1\n",
      "yellow : 9\n",
      "color: : 5\n",
      "light blue : 1\n",
      "toreador red : 1\n",
      "bright white clearcoat : 2\n",
      "billet silver metallic clearcoat : 3\n",
      "black clearcoat : 2\n",
      "jazz blue pearlcoat : 1\n",
      "purple : 1\n",
      "ruby red metallic tinted clearcoat : 2\n",
      "triple yellow tri-coat : 3\n",
      "competition orange : 1\n",
      "off-white : 2\n",
      "shadow black : 5\n",
      "magnetic metallic : 6\n",
      "ingot silver metallic : 4\n",
      "ruby red : 1\n",
      "royal crimson metallic tinted clearcoat : 1\n",
      "kona blue metallic : 1\n",
      "oxford white : 4\n",
      "lightning blue : 1\n",
      "ingot silver : 1\n",
      "white platinum tri-coat metallic : 2\n",
      "guard : 1\n",
      "tuxedo black metallic : 2\n",
      "tan : 1\n",
      "burgundy : 1\n",
      "super black : 3\n",
      "cayenne red : 2\n",
      "morningsky blue : 1\n",
      "pearl white : 1\n",
      "glacier white : 1\n"
     ]
    }
   ],
   "source": [
    "for clr in df['color'].unique():\n",
    "    print(clr, \":\", len(df[df['color'] == clr]))      #it will return all the colors with their numbers "
   ]
  },
  {
   "cell_type": "markdown",
   "id": "c5e4df63",
   "metadata": {},
   "source": [
    "# TOP 5 SELLING CAR BRANDS IN USA\n"
   ]
  },
  {
   "cell_type": "code",
   "execution_count": 76,
   "id": "1506e9b3",
   "metadata": {},
   "outputs": [],
   "source": [
    "#top 5 car brands, having most number of cars\n",
    "data = []\n",
    "for brand in df['brand'].unique():\n",
    "    data.append([brand, len(df[df['brand'] == brand])])\n",
    "data = pd.DataFrame(data, columns = ['brand','freq'])"
   ]
  },
  {
   "cell_type": "code",
   "execution_count": 77,
   "id": "269a30c4",
   "metadata": {},
   "outputs": [],
   "source": [
    "data=data.sort_values(by='freq', ascending=False).head()"
   ]
  },
  {
   "cell_type": "code",
   "execution_count": 78,
   "id": "622bb0c0",
   "metadata": {},
   "outputs": [
    {
     "data": {
      "text/plain": [
       "<AxesSubplot:xlabel='brand'>"
      ]
     },
     "execution_count": 78,
     "metadata": {},
     "output_type": "execute_result"
    },
    {
     "data": {
      "image/png": "[encoded data removed]",
      "text/plain": [
       "<Figure size 720x360 with 1 Axes>"
      ]
     },
     "metadata": {
      "needs_background": "light"
     },
     "output_type": "display_data"
    }
   ],
   "source": [
    "data.plot(x='brand', y='freq', kind='bar', figsize=(10,5))"
   ]
  },
  {
   "cell_type": "markdown",
   "id": "215a56e0",
   "metadata": {},
   "source": [
    "## Top 5 companies are Ford (more than 50%), Dodge, Nissan, Chevrolet, GMC"
   ]
  },
  {
   "cell_type": "code",
   "execution_count": 101,
   "id": "bdc84fa2",
   "metadata": {},
   "outputs": [],
   "source": [
    "data = []\n",
    "for year in df['year'].unique():\n",
    "    data.append([year, len(df[df['year'] == year])])\n",
    "    \n",
    "data = pd.DataFrame(data, columns = ['year','freq'])"
   ]
  },
  {
   "cell_type": "code",
   "execution_count": 110,
   "id": "65001efd",
   "metadata": {},
   "outputs": [],
   "source": [
    "data=data.sort_values(by='year', ascending=False)"
   ]
  },
  {
   "cell_type": "code",
   "execution_count": 111,
   "id": "a1df1a61",
   "metadata": {},
   "outputs": [
    {
     "data": {
      "text/html": [
       "<div>\n",
       "<style scoped>\n",
       "    .dataframe tbody tr th:only-of-type {\n",
       "        vertical-align: middle;\n",
       "    }\n",
       "\n",
       "    .dataframe tbody tr th {\n",
       "        vertical-align: top;\n",
       "    }\n",
       "\n",
       "    .dataframe thead th {\n",
       "        text-align: right;\n",
       "    }\n",
       "</style>\n",
       "<table border=\"1\" class=\"dataframe\">\n",
       "  <thead>\n",
       "    <tr style=\"text-align: right;\">\n",
       "      <th></th>\n",
       "      <th>year</th>\n",
       "      <th>freq</th>\n",
       "    </tr>\n",
       "  </thead>\n",
       "  <tbody>\n",
       "    <tr>\n",
       "      <th>9</th>\n",
       "      <td>2020</td>\n",
       "      <td>48</td>\n",
       "    </tr>\n",
       "    <tr>\n",
       "      <th>13</th>\n",
       "      <td>2019</td>\n",
       "      <td>892</td>\n",
       "    </tr>\n",
       "    <tr>\n",
       "      <th>2</th>\n",
       "      <td>2018</td>\n",
       "      <td>395</td>\n",
       "    </tr>\n",
       "    <tr>\n",
       "      <th>5</th>\n",
       "      <td>2017</td>\n",
       "      <td>377</td>\n",
       "    </tr>\n",
       "    <tr>\n",
       "      <th>10</th>\n",
       "      <td>2016</td>\n",
       "      <td>203</td>\n",
       "    </tr>\n",
       "  </tbody>\n",
       "</table>\n",
       "</div>"
      ],
      "text/plain": [
       "    year  freq\n",
       "9   2020    48\n",
       "13  2019   892\n",
       "2   2018   395\n",
       "5   2017   377\n",
       "10  2016   203"
      ]
     },
     "execution_count": 111,
     "metadata": {},
     "output_type": "execute_result"
    }
   ],
   "source": [
    "data.head()"
   ]
  },
  {
   "cell_type": "code",
   "execution_count": 112,
   "id": "fd202a96",
   "metadata": {},
   "outputs": [
    {
     "data": {
      "text/plain": [
       "<AxesSubplot:xlabel='year'>"
      ]
     },
     "execution_count": 112,
     "metadata": {},
     "output_type": "execute_result"
    },
    {
     "data": {
      "image/png": "[encoded data removed]",
      "text/plain": [
       "<Figure size 1440x360 with 1 Axes>"
      ]
     },
     "metadata": {
      "needs_background": "light"
     },
     "output_type": "display_data"
    }
   ],
   "source": [
    "data.plot(x='year', y='freq', kind='line', figsize=(20,5))"
   ]
  },
  {
   "cell_type": "markdown",
   "id": "864b5cd2",
   "metadata": {},
   "source": [
    "## Used car selling is increasing day by day in USA\n"
   ]
  },
  {
   "cell_type": "code",
   "execution_count": 96,
   "id": "b82ed75d",
   "metadata": {},
   "outputs": [
    {
     "data": {
      "text/plain": [
       "<AxesSubplot:xlabel='color'>"
      ]
     },
     "execution_count": 96,
     "metadata": {},
     "output_type": "execute_result"
    },
    {
     "data": {
      "image/png": "[encoded data removed]",
      "text/plain": [
       "<Figure size 1440x504 with 1 Axes>"
      ]
     },
     "metadata": {
      "needs_background": "light"
     },
     "output_type": "display_data"
    }
   ],
   "source": [
    "data = []\n",
    "for color in df['color'].unique():\n",
    "    data.append([color, len(df[df['color'] == color])])\n",
    "    \n",
    "data = pd.DataFrame(data, columns = ['color','freq'])\n",
    "\n",
    "data=data.sort_values(by='freq', ascending=False)\n",
    "\n",
    "data.plot(x='color', y='freq', kind='bar', figsize=(20,7))"
   ]
  },
  {
   "cell_type": "markdown",
   "id": "349221a6",
   "metadata": {},
   "source": [
    "## white and black is top two preferable car colour in USA "
   ]
  },
  {
   "cell_type": "markdown",
   "id": "9d6f5873",
   "metadata": {},
   "source": [
    "## Car brands having maximum average price, means expensive car brands in USA"
   ]
  },
  {
   "cell_type": "code",
   "execution_count": 116,
   "id": "018fe393",
   "metadata": {},
   "outputs": [],
   "source": [
    "pr_avg = df.groupby('brand').mean()['price'].sort_values(ascending=False)"
   ]
  },
  {
   "cell_type": "code",
   "execution_count": 117,
   "id": "aba2fb7c",
   "metadata": {},
   "outputs": [
    {
     "data": {
      "text/plain": [
       "<AxesSubplot:xlabel='brand'>"
      ]
     },
     "execution_count": 117,
     "metadata": {},
     "output_type": "execute_result"
    },
    {
     "data": {
      "image/png": "[encoded data removed]",
      "text/plain": [
       "<Figure size 1440x360 with 1 Axes>"
      ]
     },
     "metadata": {
      "needs_background": "light"
     },
     "output_type": "display_data"
    }
   ],
   "source": [
    "pr_avg.plot.bar(figsize=(20,5))"
   ]
  },
  {
   "cell_type": "markdown",
   "id": "44f61543",
   "metadata": {},
   "source": [
    "## Harley-Davidson is the most expensive car brand in USA"
   ]
  },
  {
   "cell_type": "code",
   "execution_count": 120,
   "id": "48e9a0b0",
   "metadata": {},
   "outputs": [],
   "source": [
    "mil_avg = df.groupby('brand').mean()['mileage'].sort_values(ascending=False).head(10)"
   ]
  },
  {
   "cell_type": "code",
   "execution_count": 121,
   "id": "bb381f6e",
   "metadata": {},
   "outputs": [
    {
     "data": {
      "text/plain": [
       "<AxesSubplot:xlabel='brand'>"
      ]
     },
     "execution_count": 121,
     "metadata": {},
     "output_type": "execute_result"
    },
    {
     "data": {
      "image/png": "[encoded data removed]",
      "text/plain": [
       "<Figure size 1440x360 with 1 Axes>"
      ]
     },
     "metadata": {
      "needs_background": "light"
     },
     "output_type": "display_data"
    }
   ],
   "source": [
    "mil_avg.plot.bar(figsize=(20,5))"
   ]
  },
  {
   "cell_type": "markdown",
   "id": "89f6d704",
   "metadata": {},
   "source": [
    "## Peterbilt is the most fuel-efficient brand in USA"
   ]
  },
  {
   "cell_type": "code",
   "execution_count": 123,
   "id": "751bb008",
   "metadata": {},
   "outputs": [],
   "source": [
    "state_avg_price = df.groupby('state').mean()['price'].sort_values(ascending=False).head(10)"
   ]
  },
  {
   "cell_type": "code",
   "execution_count": 124,
   "id": "d3585e2a",
   "metadata": {},
   "outputs": [
    {
     "data": {
      "text/plain": [
       "<AxesSubplot:xlabel='state'>"
      ]
     },
     "execution_count": 124,
     "metadata": {},
     "output_type": "execute_result"
    },
    {
     "data": {
      "image/png": "[encoded data removed]",
      "text/plain": [
       "<Figure size 1440x360 with 1 Axes>"
      ]
     },
     "metadata": {
      "needs_background": "light"
     },
     "output_type": "display_data"
    }
   ],
   "source": [
    "state_avg_price.plot.bar(figsize=(20,5))"
   ]
  },
  {
   "cell_type": "markdown",
   "id": "67adc27c",
   "metadata": {},
   "source": [
    "## Kentucky state has the most expensive cars in USA"
   ]
  },
  {
   "cell_type": "code",
   "execution_count": null,
   "id": "51dcf299",
   "metadata": {},
   "outputs": [],
   "source": []
  }
 ],
 "metadata": {
  "kernelspec": {
   "display_name": "Python 3",
   "language": "python",
   "name": "python3"
  },
  "language_info": {
   "codemirror_mode": {
    "name": "ipython",
    "version": 3
   },
   "file_extension": ".py",
   "mimetype": "text/x-python",
   "name": "python",
   "nbconvert_exporter": "python",
   "pygments_lexer": "ipython3",
   "version": "3.8.8"
  }
 },
 "nbformat": 4,
 "nbformat_minor": 5
}
